{
 "cells": [
  {
   "cell_type": "code",
   "execution_count": 1,
   "id": "bca2a48f-6e56-4e0c-ad9b-3f2dc16b4250",
   "metadata": {},
   "outputs": [],
   "source": [
    "import networkx as nx\n",
    "\n",
    "#synteny_map = nx.read_gexf(\"/home/cadel/synteny/synteny.gexf\")"
   ]
  },
  {
   "cell_type": "code",
   "execution_count": 2,
   "id": "938f59ee-b367-4bc1-8a3a-7ced2e12fdff",
   "metadata": {},
   "outputs": [],
   "source": [
    "from deduce_uces.io.sam import parse_sam_lazy\n",
    "from deduce_uces.Logger import ConsoleLogger\n",
    "#sam_filename = \"/home/cadel/synteny/sandy.v0a.0.canu.85e72ca32167c8624f2dc602fba8b3ee.sam\"\n",
    "#alignments = [a for a in parse_sam_lazy(sam_filename, 0, ConsoleLogger(), False)]"
   ]
  },
  {
   "cell_type": "code",
   "execution_count": 3,
   "id": "42e112a3-6247-4013-9179-5a4b24534169",
   "metadata": {},
   "outputs": [],
   "source": [
    "import itertools\n",
    "from operator import attrgetter\n",
    "\n",
    "# syntenic = 0\n",
    "# non_syntenic = 0\n",
    "\n",
    "# def is_pair_syntenic(pair, map):\n",
    "#     # print(\"syn?\",pair[0].query_name,\n",
    "#     if synteny_map.get_edge_data(pair[0].query_name, pair[1].query_name, {\"weight\": 0})[\"weight\"] > 0:\n",
    "#         return True\n",
    "#     return False\n",
    "\n",
    "# for _, uces in itertools.groupby(sorted(alignments, key=attrgetter(\"reference_name\")), key=attrgetter(\"reference_name\")):\n",
    "#     sorted_uces = list(sorted(uces, key=attrgetter(\"position\")))\n",
    "    \n",
    "#     for i in range(len(sorted_uces) - 1):\n",
    "#         pair = (sorted_uces[i], sorted_uces[i+1])\n",
    "#         #print(pair)\n",
    "#         if is_pair_syntenic(pair):\n",
    "#             syntenic += 1\n",
    "#         else:\n",
    "#             non_syntenic += 1"
   ]
  },
  {
   "cell_type": "code",
   "execution_count": 56,
   "id": "3fcc104c-9e3e-4dc6-8b06-81451216cc1f",
   "metadata": {},
   "outputs": [],
   "source": [
    "import csv\n",
    "from operator import itemgetter\n",
    "\n",
    "def sort_and_group(xs, by):\n",
    "    for g, gxs in itertools.groupby(sorted(xs, key=by), key=by):\n",
    "        yield g, list(gxs)\n",
    "\n",
    "def build_simple_synteny_map(bed_file):\n",
    "    with open(bed_file) as f:\n",
    "        r = csv.reader(f, delimiter=\"\\t\")\n",
    "        \n",
    "        uces = [(line[3], line[0], int(line[1])) for line in r]\n",
    "    \n",
    "    unique_uces = get_unique_uces(uces)\n",
    "    \n",
    "    m = nx.DiGraph()\n",
    "    for contig, contig_uces in sort_and_group(unique_uces, itemgetter(1)):\n",
    "        sorted_contig_uces = sorted(contig_uces, key=itemgetter(2))\n",
    "        \n",
    "        for i in range(len(sorted_contig_uces) - 1):\n",
    "            m.add_node(sorted_contig_uces[i][0])\n",
    "            m.add_node(sorted_contig_uces[i+1][0])\n",
    "            m.add_edge(sorted_contig_uces[i][0], sorted_contig_uces[i+1][0], weight=1,dist=sorted_contig_uces[i+1][2] - sorted_contig_uces[i][2])\n",
    "    return m\n",
    "        \n"
   ]
  },
  {
   "cell_type": "code",
   "execution_count": 57,
   "id": "ad93198f-3d44-49b2-8287-0543ce1836f6",
   "metadata": {},
   "outputs": [],
   "source": [
    "def get_unique_uces(uces):\n",
    "    unique = []\n",
    "    for uce_id, instances in sort_and_group(uces, itemgetter(0)):\n",
    "        if len(instances) > 1:\n",
    "            continue\n",
    "        unique.append(instances[0])\n",
    "    return unique\n",
    "\n",
    "def read_unique_uces_from_sam(sam_filename, max_mismatches = 0):\n",
    "    uces = [(a.query_name, a.reference_name, a.position) for a in parse_sam_lazy(sam_filename, max_mismatches, ConsoleLogger(), False)]\n",
    "    return get_unique_uces(uces)\n",
    "    \n",
    "\n",
    "def scored_shortest_path_or_none(g, x, y, max_len):\n",
    "    if x not in g:\n",
    "        return None, None\n",
    "    if y not in g:\n",
    "        return None, None\n",
    "    \n",
    "    try:\n",
    "        p = nx.shortest_path(g, source=x, target=y)\n",
    "        if len(p) > max_len:\n",
    "            return None, None\n",
    "        \n",
    "        consensus = []\n",
    "        for i in range(len(p) - 1):\n",
    "            consensus.append(g[p[i]][p[i+1]][\"weight\"])\n",
    "        return min(consensus) * (1/len(p)), len(p)\n",
    "    \n",
    "    except nx.NetworkXNoPath:\n",
    "        return None, None\n",
    "    \n",
    "def assess_synteny_by_pairs(uces, synteny_map, max_dist=1):\n",
    "    syntenic = 0\n",
    "    score = 0\n",
    "    for _, contig_uces in sort_and_group(uces, itemgetter(1)):\n",
    "        sorted_uces = list(sorted(contig_uces, key=itemgetter(2)))\n",
    "\n",
    "        for i in range(len(sorted_uces) - 1):\n",
    "            pair = (sorted_uces[i], sorted_uces[i+1])\n",
    "            s, d = scored_shortest_path_or_none(synteny_map, pair[0][0], pair[1][0], max_dist)\n",
    "            if s and d:\n",
    "                score += s\n",
    "                syntenic += 1\n",
    "    return syntenic, score"
   ]
  },
  {
   "cell_type": "code",
   "execution_count": 58,
   "id": "e6de9261-701d-4b8c-b3f5-62e1b1558ea4",
   "metadata": {},
   "outputs": [],
   "source": [
    "def merge_synteny_maps(maps):\n",
    "    merged = nx.DiGraph()\n",
    "    \n",
    "    for m in maps:\n",
    "        for n in m.nodes:\n",
    "            merged.add_node(n)\n",
    "    \n",
    "    for m in maps:\n",
    "        for e in m.edges(data=\"weight\"):\n",
    "            if merged.has_edge(e[0], e[1]):\n",
    "                merged[e[0]][e[1]][\"weight\"] = merged[e[0]][e[1]][\"weight\"] + m[e[0]][e[1]][\"weight\"]\n",
    "            else:\n",
    "                merged.add_edge(e[0], e[1], weight=m[e[0]][e[1]][\"weight\"])\n",
    "    \n",
    "    return merged"
   ]
  },
  {
   "cell_type": "code",
   "execution_count": 59,
   "id": "41982d2b-096e-42cf-9fa1-d75bab9637ae",
   "metadata": {},
   "outputs": [],
   "source": [
    "maps = [build_simple_synteny_map(x) for x in [\n",
    "    \"/home/cadel/synteny/ste08_5_of_5_1c77a9f-bosTau2.bed\",\n",
    "    \"/home/cadel/synteny/ste08_5_of_5_1c77a9f-canFam2.bed\",\n",
    "    \"/home/cadel/synteny/ste08_5_of_5_1c77a9f-hg18.bed\",\n",
    "    \"/home/cadel/synteny/ste08_5_of_5_1c77a9f-mm8.bed\",\n",
    "    \"/home/cadel/synteny/ste08_5_of_5_1c77a9f-rn4.bed\"\n",
    "]]"
   ]
  },
  {
   "cell_type": "code",
   "execution_count": 66,
   "id": "f3cf54e9-b482-41c6-b7ec-368f563570f7",
   "metadata": {},
   "outputs": [
    {
     "data": {
      "text/plain": [
       "2848"
      ]
     },
     "execution_count": 66,
     "metadata": {},
     "output_type": "execute_result"
    }
   ],
   "source": [
    "consensus = merge_synteny_maps(maps)\n",
    "len(consensus)"
   ]
  },
  {
   "cell_type": "code",
   "execution_count": 70,
   "id": "214dbc2a-142f-40da-aaf0-96e4fffc2428",
   "metadata": {},
   "outputs": [
    {
     "data": {
      "text/plain": [
       "(2779, 4371.407491774734)"
      ]
     },
     "execution_count": 70,
     "metadata": {},
     "output_type": "execute_result"
    }
   ],
   "source": [
    "assess_synteny_by_pairs(read_unique_uces_from_sam(\"/home/cadel/synteny/sandy.v2.2.5a6fcc90597a01ded81ff52f9c01586d.sam\"), consensus, max_dist=100)"
   ]
  },
  {
   "cell_type": "code",
   "execution_count": 62,
   "id": "5543d88f-26bb-4ef9-831e-cb5e66c63085",
   "metadata": {},
   "outputs": [],
   "source": [
    "import seaborn as sns\n",
    "import pandas as pd\n",
    "\n",
    "records = []\n",
    "for distance_threshold in range(1,101):\n",
    "    found, score = assess_synteny_by_pairs(read_unique_uces_from_sam(\"/home/cadel/synteny/sandy.v2.2.e45e1bd7ff314c5330389689134e13ce.sam\"), consensus, max_dist=distance_threshold)\n",
    "    records.append((distance_threshold, found, score))\n",
    "    \n",
    "pair_df = pd.DataFrame.from_records(records, columns=[\"distance\", \"n\", \"score\"])\n",
    "    "
   ]
  },
  {
   "cell_type": "code",
   "execution_count": 63,
   "id": "85ad7fa9-d2f6-4307-afec-1f2b03eb1629",
   "metadata": {},
   "outputs": [
    {
     "data": {
      "text/plain": [
       "<seaborn.axisgrid.FacetGrid at 0x7fdcdf598190>"
      ]
     },
     "execution_count": 63,
     "metadata": {},
     "output_type": "execute_result"
    },
    {
     "data": {
      "image/png": "[encoded data removed]",
      "text/plain": [
       "<Figure size 360x360 with 1 Axes>"
      ]
     },
     "metadata": {
      "needs_background": "light"
     },
     "output_type": "display_data"
    },
    {
     "data": {
      "image/png": "[encoded data removed]",
      "text/plain": [
       "<Figure size 360x360 with 1 Axes>"
      ]
     },
     "metadata": {
      "needs_background": "light"
     },
     "output_type": "display_data"
    }
   ],
   "source": [
    "sns.relplot(data=pair_df, x=\"distance\", y=\"n\", kind=\"line\")\n",
    "sns.relplot(data=pair_df, x=\"distance\", y=\"score\", kind=\"line\")"
   ]
  },
  {
   "cell_type": "code",
   "execution_count": 65,
   "id": "1f866752-e1cb-4e0e-9014-7bd7fbabcebf",
   "metadata": {},
   "outputs": [
    {
     "name": "stdout",
     "output_type": "stream",
     "text": [
      "sandy.v0a.0.canu.5a35c4c62cacaa136f779fb23df34815.sam 295 489.6833333333333\n",
      "sandy.v0a.1.arrow.5df39d56c85da00b8b3e43fa09962497.sam 313 519.3666666666666\n",
      "sandy.v0a.2.purged.e95feb9a73fc440ca0a51f6f988609ab.sam 312 515.6999999999998\n",
      "sandy.v0a.3.hic.8d7516ee7e5fdeef7afd143c204f4d9e.sam 420 829.7666666666667\n",
      "sandy.v0a.4.arrow2.ea78c4d82029da7d403aa67243af14b7.sam 419 827.2666666666667\n",
      "sandy.v0a.5.pbjelly.849c05c809e876245ac851df5b91c6ac.sam 442 872.5166666666668\n",
      "sandy.v0a.6.arrow3.e3ed87121b0a024c55bab7cd36d48cd1.sam 441 870.0166666666668\n",
      "sandy.v0a.7.pilon.4ae9e36ba7614a163ffcc4f07a15c72c.sam 443 875.8500000000001\n",
      "sandy.v0a.8.pafscaff.709b7f4cbe1fab56f026c72d66476e9b.sam 601 1328.133333333333\n",
      "sandy.v2.0.9a58047bd2b428208d7f2edba473b209.sam 601 1328.133333333333\n"
     ]
    }
   ],
   "source": [
    "import os\n",
    "sams = [\n",
    "    \"sandy.v0a.0.canu.5a35c4c62cacaa136f779fb23df34815.sam\",\n",
    "    \"sandy.v0a.1.arrow.5df39d56c85da00b8b3e43fa09962497.sam\",\n",
    "    \"sandy.v0a.2.purged.e95feb9a73fc440ca0a51f6f988609ab.sam\",\n",
    "    \"sandy.v0a.3.hic.8d7516ee7e5fdeef7afd143c204f4d9e.sam\",\n",
    "    \"sandy.v0a.4.arrow2.ea78c4d82029da7d403aa67243af14b7.sam\",\n",
    "    \"sandy.v0a.5.pbjelly.849c05c809e876245ac851df5b91c6ac.sam\",\n",
    "    \"sandy.v0a.6.arrow3.e3ed87121b0a024c55bab7cd36d48cd1.sam\",\n",
    "    \"sandy.v0a.7.pilon.4ae9e36ba7614a163ffcc4f07a15c72c.sam\",\n",
    "    \"sandy.v0a.8.pafscaff.709b7f4cbe1fab56f026c72d66476e9b.sam\",\n",
    "    \"sandy.v2.0.9a58047bd2b428208d7f2edba473b209.sam\"\n",
    "    ]\n",
    "\n",
    "for sam in sams:\n",
    "    found, score = assess_synteny_by_pairs(read_unique_uces_from_sam(os.path.join(\"/home/cadel/synteny/sandy/fasta/fasta\", sam)), consensus, max_dist=5)\n",
    "    print(sam, found, score)\n"
   ]
  },
  {
   "cell_type": "code",
   "execution_count": 55,
   "id": "0a51ac2d-5690-4fcf-b886-97f8dc835abc",
   "metadata": {},
   "outputs": [
    {
     "name": "stdout",
     "output_type": "stream",
     "text": [
      "step1_svulgaris-10x-550M-sub80.1.016b695fb029277df04852a0c0dfdde2.sam 1087 133.25983045143957\n",
      "step8_pseudochromosomes.2cbb6c3061a899aba45374a34b16ad00.sam 1224 156.14011438188686\n",
      "step8_pseudochromosomes.2cbb6c3061a899aba45374a34b16ad00.sam 379 16.187420782960203\n",
      "step8_pseudochromosomes.2cbb6c3061a899aba45374a34b16ad00.sam 1105 102.87169930763991\n",
      "step8_pseudochromosomes.2cbb6c3061a899aba45374a34b16ad00.sam 357 17.82499340319275\n"
     ]
    }
   ],
   "source": [
    "# Starling\n",
    "starling_maps = [build_simple_synteny_map(x) for x in [\n",
    "    \"/home/cadel/projects/thesis/UNSWThesis/data/completeness/starling/synteny/5484b21-aquila_chrysaetos_chrysaetos.bed\",\n",
    "    \"/home/cadel/projects/thesis/UNSWThesis/data/completeness/starling/synteny/5484b21-struthio_camelus_australis.bed\",\n",
    "    \"/home/cadel/projects/thesis/UNSWThesis/data/completeness/starling/synteny/5484b21-parus_major.bed\",\n",
    "]]\n",
    "\n",
    "starling_consensus = merge_synteny_maps(starling_maps)\n",
    "\n",
    "starling_sams = [\n",
    "    \"step1_svulgaris-10x-550M-sub80.1.016b695fb029277df04852a0c0dfdde2.sam\",\n",
    "    \"step8_pseudochromosomes.2cbb6c3061a899aba45374a34b16ad00.sam\"\n",
    "]\n",
    "\n",
    "for sam in starling_sams:\n",
    "    found, score = assess_synteny_by_pairs(read_unique_uces_from_sam(os.path.join(\"/home/cadel/synteny\", sam)), starling_consensus, max_dist=100)\n",
    "    print(sam, found, score)\n",
    "\n",
    "    \n",
    "for m in starling_maps:\n",
    "    found, score = assess_synteny_by_pairs(read_unique_uces_from_sam(os.path.join(\"/home/cadel/synteny\", sam)), m, max_dist=100)\n",
    "    print(sam, found, score)"
   ]
  }
 ],
 "metadata": {
  "kernelspec": {
   "display_name": "Python 3 (ipykernel)",
   "language": "python",
   "name": "python3"
  },
  "language_info": {
   "codemirror_mode": {
    "name": "ipython",
    "version": 3
   },
   "file_extension": ".py",
   "mimetype": "text/x-python",
   "name": "python",
   "nbconvert_exporter": "python",
   "pygments_lexer": "ipython3",
   "version": "3.9.7"
  }
 },
 "nbformat": 4,
 "nbformat_minor": 5
}
