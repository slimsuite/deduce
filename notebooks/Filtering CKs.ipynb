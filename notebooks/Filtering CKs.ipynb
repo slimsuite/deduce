{
 "cells": [
  {
   "cell_type": "code",
   "execution_count": 1,
   "id": "4f18ab57-cb92-4da9-9acd-97be38f4ed40",
   "metadata": {},
   "outputs": [],
   "source": [
    "data_dir = '/home/cadel/data/deduce/Ste08'"
   ]
  },
  {
   "cell_type": "code",
   "execution_count": 29,
   "id": "de32df5d-dd7f-4d07-a613-3384de5368fd",
   "metadata": {},
   "outputs": [],
   "source": [
    "import pandas as pd\n",
    "import os\n",
    "import seaborn as sns"
   ]
  },
  {
   "cell_type": "code",
   "execution_count": 4,
   "id": "6f5074bd-136c-407a-9177-8160b9039a21",
   "metadata": {},
   "outputs": [],
   "source": [
    "def read_bed(f):\n",
    "    return pd.read_csv(f, sep=\"\\t\", names=[\"contig\", \"start\", \"end\"], usecols=[0,1,2])"
   ]
  },
  {
   "cell_type": "code",
   "execution_count": 8,
   "id": "0a5a5d9e-a560-49ba-9fcf-d63665838471",
   "metadata": {},
   "outputs": [],
   "source": [
    "df = read_bed(os.path.join(data_dir, \"bosTau2Head.bed\"))"
   ]
  },
  {
   "cell_type": "code",
   "execution_count": 49,
   "id": "522137f3-afef-417f-bebe-7d0217ed830b",
   "metadata": {},
   "outputs": [],
   "source": [
    "from deduce_uces.algs.merge_doa import CoreKmer, get_candidate_regions\n",
    "import csv\n",
    "def read_bed(fname):\n",
    "    with open(fname) as f: \n",
    "        reader = csv.reader(f, delimiter=\"\\t\")\n",
    "\n",
    "        for row in reader:\n",
    "            yield CoreKmer(\n",
    "                id=row[3],\n",
    "                sequence=\"A\",\n",
    "                contig=row[0],\n",
    "                position=int(row[1]),\n",
    "                seq=\"\"\n",
    "            )\n",
    "\n",
    "df = [bed for bed in read_bed(os.path.join(data_dir, \"bosTau2.bed\"))]"
   ]
  },
  {
   "cell_type": "code",
   "execution_count": 50,
   "id": "f8b7aa76-aac3-4618-9fe5-4b17de111675",
   "metadata": {},
   "outputs": [
    {
     "name": "stdout",
     "output_type": "stream",
     "text": [
      "Total core kmers:  3274024\n",
      "Filtered core kmers:  320437\n"
     ]
    }
   ],
   "source": [
    "all_cks = set(x.id for x in df)\n",
    "print(\"Total core kmers: \", len(all_cks))\n",
    "\n",
    "regions = get_candidate_regions(df, 200, 3)\n",
    "cks_in_region = set()\n",
    "for r in regions:\n",
    "    for ck in r:\n",
    "        cks_in_region.add(ck.id)\n",
    "\n",
    "print(\"Filtered core kmers: \", len(cks_in_region))\n"
   ]
  },
  {
   "cell_type": "code",
   "execution_count": 21,
   "id": "daa8767a-487e-44b1-8f66-811e34c1ce0e",
   "metadata": {},
   "outputs": [
    {
     "data": {
      "text/html": [
       "<div>\n",
       "<style scoped>\n",
       "    .dataframe tbody tr th:only-of-type {\n",
       "        vertical-align: middle;\n",
       "    }\n",
       "\n",
       "    .dataframe tbody tr th {\n",
       "        vertical-align: top;\n",
       "    }\n",
       "\n",
       "    .dataframe thead th {\n",
       "        text-align: right;\n",
       "    }\n",
       "</style>\n",
       "<table border=\"1\" class=\"dataframe\">\n",
       "  <thead>\n",
       "    <tr style=\"text-align: right;\">\n",
       "      <th></th>\n",
       "      <th>contig</th>\n",
       "      <th>start</th>\n",
       "      <th>end</th>\n",
       "    </tr>\n",
       "  </thead>\n",
       "  <tbody>\n",
       "    <tr>\n",
       "      <th>0</th>\n",
       "      <td>chr1</td>\n",
       "      <td>2936</td>\n",
       "      <td>1</td>\n",
       "    </tr>\n",
       "    <tr>\n",
       "      <th>1</th>\n",
       "      <td>chr1</td>\n",
       "      <td>2937</td>\n",
       "      <td>2</td>\n",
       "    </tr>\n",
       "    <tr>\n",
       "      <th>2</th>\n",
       "      <td>chr1</td>\n",
       "      <td>36496</td>\n",
       "      <td>1</td>\n",
       "    </tr>\n",
       "    <tr>\n",
       "      <th>3</th>\n",
       "      <td>chr1</td>\n",
       "      <td>36497</td>\n",
       "      <td>4</td>\n",
       "    </tr>\n",
       "    <tr>\n",
       "      <th>4</th>\n",
       "      <td>chr1</td>\n",
       "      <td>36500</td>\n",
       "      <td>24</td>\n",
       "    </tr>\n",
       "    <tr>\n",
       "      <th>...</th>\n",
       "      <td>...</td>\n",
       "      <td>...</td>\n",
       "      <td>...</td>\n",
       "    </tr>\n",
       "    <tr>\n",
       "      <th>3606</th>\n",
       "      <td>chr1</td>\n",
       "      <td>1681274</td>\n",
       "      <td>99</td>\n",
       "    </tr>\n",
       "    <tr>\n",
       "      <th>3607</th>\n",
       "      <td>chr1</td>\n",
       "      <td>1681275</td>\n",
       "      <td>109</td>\n",
       "    </tr>\n",
       "    <tr>\n",
       "      <th>3608</th>\n",
       "      <td>chr1</td>\n",
       "      <td>1681276</td>\n",
       "      <td>75</td>\n",
       "    </tr>\n",
       "    <tr>\n",
       "      <th>3609</th>\n",
       "      <td>chr1</td>\n",
       "      <td>1681277</td>\n",
       "      <td>77</td>\n",
       "    </tr>\n",
       "    <tr>\n",
       "      <th>3610</th>\n",
       "      <td>chr1</td>\n",
       "      <td>1681278</td>\n",
       "      <td>29</td>\n",
       "    </tr>\n",
       "  </tbody>\n",
       "</table>\n",
       "<p>3611 rows × 3 columns</p>\n",
       "</div>"
      ],
      "text/plain": [
       "     contig    start  end\n",
       "0      chr1     2936    1\n",
       "1      chr1     2937    2\n",
       "2      chr1    36496    1\n",
       "3      chr1    36497    4\n",
       "4      chr1    36500   24\n",
       "...     ...      ...  ...\n",
       "3606   chr1  1681274   99\n",
       "3607   chr1  1681275  109\n",
       "3608   chr1  1681276   75\n",
       "3609   chr1  1681277   77\n",
       "3610   chr1  1681278   29\n",
       "\n",
       "[3611 rows x 3 columns]"
      ]
     },
     "execution_count": 21,
     "metadata": {},
     "output_type": "execute_result"
    }
   ],
   "source": [
    "grouped_by_start_pos = df.groupby(['contig', 'start']).count()\n",
    "grouped_by_start_pos = grouped_by_start_pos.reset_index(level=['contig', 'start'])\n",
    "grouped_by_start_pos"
   ]
  },
  {
   "cell_type": "code",
   "execution_count": 27,
   "id": "c2c2d0e2-2c99-4ccb-a48d-83aa4f26975e",
   "metadata": {},
   "outputs": [],
   "source": [
    "# https://stackoverflow.com/a/52907485\n",
    "grouped_by_start_pos['run'] = (grouped_by_start_pos['start'] != grouped_by_start_pos['start'].shift() + 1).astype(int).cumsum()\n",
    "\n",
    "run_length = grouped_by_start_pos.groupby(['run']).count()\n"
   ]
  },
  {
   "cell_type": "code",
   "execution_count": 32,
   "id": "8d96e72f-6bc8-42a5-b34b-a11669544738",
   "metadata": {},
   "outputs": [
    {
     "data": {
      "text/plain": [
       "<seaborn.axisgrid.FacetGrid at 0x7fe9af869f40>"
      ]
     },
     "execution_count": 32,
     "metadata": {},
     "output_type": "execute_result"
    },
    {
     "data": {
      "image/png": "[encoded data removed]",
      "text/plain": [
       "<Figure size 360x360 with 1 Axes>"
      ]
     },
     "metadata": {
      "needs_background": "light"
     },
     "output_type": "display_data"
    }
   ],
   "source": [
    "run_length\n",
    "sns.displot(run_length, x=\"end\")"
   ]
  }
 ],
 "metadata": {
  "kernelspec": {
   "display_name": "Python 3 (ipykernel)",
   "language": "python",
   "name": "python3"
  },
  "language_info": {
   "codemirror_mode": {
    "name": "ipython",
    "version": 3
   },
   "file_extension": ".py",
   "mimetype": "text/x-python",
   "name": "python",
   "nbconvert_exporter": "python",
   "pygments_lexer": "ipython3",
   "version": "3.9.7"
  }
 },
 "nbformat": 4,
 "nbformat_minor": 5
}
