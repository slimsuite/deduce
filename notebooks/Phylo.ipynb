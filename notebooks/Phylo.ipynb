{
 "cells": [
  {
   "cell_type": "code",
   "execution_count": 4,
   "id": "210c8154-9361-4a3f-be96-d07ff4e9e759",
   "metadata": {},
   "outputs": [],
   "source": [
    "from Bio import Phylo\n",
    "trees = Phylo.parse(\"/home/cadel/projects/thesis/UNSWThesis/data/ensembl_species_tree.txt\", \"newick\")\n",
    "t = list(trees)[0]\n",
    "\n",
    "from ete3 import Tree\n",
    "t = Tree(\"/home/cadel/projects/thesis/UNSWThesis/data/ensembl_species_tree.txt\")"
   ]
  },
  {
   "cell_type": "code",
   "execution_count": 2,
   "id": "fed9c08d-84cf-4926-8269-6882ef4e1a79",
   "metadata": {},
   "outputs": [],
   "source": [
    "for node in t.traverse(\"postorder\"):\n",
    "  if node.name not in [\"mus_musculus\", \"canis_lupus_familiaris\", \"homo_sapiens\", \"rattus_norvegicus\", \"bos_taurus\"]:\n",
    "    node.delete()\n",
    "\n",
    "# t.search_nodes(name=\"dasypus_novemcinctus\")[0].delete()\n",
    "# print(t)"
   ]
  },
  {
   "cell_type": "code",
   "execution_count": 12,
   "id": "22c22ba0-5a9f-4d56-833f-3c3501ef159a",
   "metadata": {},
   "outputs": [],
   "source": [
    "MM = t&\"mus_musculus\"\n",
    "RN = t&\"rattus_norvegicus\"\n",
    "BT = t&\"bos_taurus\"\n",
    "HS = t&\"homo_sapiens\"\n",
    "CF = t&\"canis_lupus_familiaris\"\n",
    "\n",
    "import itertools\n",
    "dists = []\n",
    "for x,y in itertools.product([MM,RN,BT,HS,CF],[MM,RN,BT,HS,CF]):\n",
    "    dists.append((x.name,y.name, x.get_distance(y)))"
   ]
  },
  {
   "cell_type": "code",
   "execution_count": 14,
   "id": "1355f21b-b6eb-44bf-91e3-8b35f61a2e65",
   "metadata": {},
   "outputs": [
    {
     "data": {
      "text/plain": [
       "[('mus_musculus', 'mus_musculus', 0.0),\n",
       " ('rattus_norvegicus', 'rattus_norvegicus', 0.0),\n",
       " ('bos_taurus', 'bos_taurus', 0.0),\n",
       " ('homo_sapiens', 'homo_sapiens', 0.0),\n",
       " ('canis_lupus_familiaris', 'canis_lupus_familiaris', 0.0),\n",
       " ('mus_musculus', 'rattus_norvegicus', 0.124172329),\n",
       " ('rattus_norvegicus', 'mus_musculus', 0.12417232900000001),\n",
       " ('canis_lupus_familiaris', 'bos_taurus', 0.1744222),\n",
       " ('bos_taurus', 'canis_lupus_familiaris', 0.17442220000000003),\n",
       " ('homo_sapiens', 'canis_lupus_familiaris', 0.1963602757),\n",
       " ('canis_lupus_familiaris', 'homo_sapiens', 0.1963602757),\n",
       " ('bos_taurus', 'homo_sapiens', 0.2068618557),\n",
       " ('homo_sapiens', 'bos_taurus', 0.20686185570000004),\n",
       " ('homo_sapiens', 'mus_musculus', 0.20969196469999998),\n",
       " ('mus_musculus', 'homo_sapiens', 0.20969196470000004),\n",
       " ('homo_sapiens', 'rattus_norvegicus', 0.21119443569999996),\n",
       " ('rattus_norvegicus', 'homo_sapiens', 0.21119443570000004),\n",
       " ('mus_musculus', 'canis_lupus_familiaris', 0.211263509),\n",
       " ('canis_lupus_familiaris', 'mus_musculus', 0.211263509),\n",
       " ('canis_lupus_familiaris', 'rattus_norvegicus', 0.21276597999999994),\n",
       " ('rattus_norvegicus', 'canis_lupus_familiaris', 0.21276598),\n",
       " ('bos_taurus', 'mus_musculus', 0.221765089),\n",
       " ('mus_musculus', 'bos_taurus', 0.22176508900000005),\n",
       " ('bos_taurus', 'rattus_norvegicus', 0.22326755999999995),\n",
       " ('rattus_norvegicus', 'bos_taurus', 0.22326756000000006)]"
      ]
     },
     "execution_count": 14,
     "metadata": {},
     "output_type": "execute_result"
    }
   ],
   "source": [
    "sorted(dists, key=lambda x: x[2])"
   ]
  }
 ],
 "metadata": {
  "kernelspec": {
   "display_name": "Python 3 (ipykernel)",
   "language": "python",
   "name": "python3"
  },
  "language_info": {
   "codemirror_mode": {
    "name": "ipython",
    "version": 3
   },
   "file_extension": ".py",
   "mimetype": "text/x-python",
   "name": "python",
   "nbconvert_exporter": "python",
   "pygments_lexer": "ipython3",
   "version": "3.9.7"
  }
 },
 "nbformat": 4,
 "nbformat_minor": 5
}
