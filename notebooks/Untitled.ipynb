{
 "cells": [
  {
   "cell_type": "code",
   "execution_count": 4,
   "id": "f0a19510-28b7-467f-a4a8-323142c274c3",
   "metadata": {},
   "outputs": [
    {
     "name": "stdout",
     "output_type": "stream",
     "text": [
      "GA---TTAATGCAATGTAGTGTCAA-TTAGATGTAC----ATTCCTGAGGT-CTTTT-ATCTGTTGTAGC-----TTT---GT--CTTT--T-T-CTTTTTCTTTTC-AT-TACATC-A---G-----GTATATT---GC-C----CT------G-TAAATT-G---T--GGTAG-TGGTAC--C-AG---GA-A-TA-A----A--AA--\n",
      " |   ||||   ||   | | ||   ||| || |      ||||||  ||| |     | |     || |     |||   |   |     | | |     |   |  || || ||  |   |     | | |     |  |    ||      | ||||   |   |  || |  | ||||  | |    || | || |    |  ||  \n",
      "-AAAGTTAA---AA---A-T-TC--CTTA-AT-T--TTTTATTCCT--GGTAC----CA-C-----TA-CCACAATTTACAG-GGC---AATATAC-----C---T-GATGTA-AT-GAAAAGAAAAAG-A-A--AAAG-ACAAAGCTACAACAGATAAA--AGACCTCAGG-A-AT-GTACATCTA-ATTGACACTACATTGCATTAATC\n",
      "  Score=83\n",
      "\n",
      "----TT-----TT--T-A-TT-------CCTGGTACCACTACCACAATTTACAGGGCAATATACCTGATGTAATGAAAAGAAAAAGAAAAAGACAAAGCTACAACAGATAAAAGACCTCAGGAATGTACATCTAATTGACACTACATTGCATTAATC\n",
      "    ||     ||  | | ||       |||||||||||||||||||||||||||||||||||||||||||||||||||||||||||||||||||||||||||||||||||||||||||||||||||||||||||||||||||||||||||||||||\n",
      "AAAGTTAAAAATTCCTTAATTTTTTATTCCTGGTACCACTACCACAATTTACAGGGCAATATACCTGATGTAATGAAAAGAAAAAGAAAAAGACAAAGCTACAACAGATAAAAGACCTCAGGAATGTACATCTAATTGACACTACATTGCATTAATC\n",
      "  Score=137\n",
      "\n"
     ]
    }
   ],
   "source": [
    "from Bio import pairwise2\n",
    "from Bio.pairwise2 import format_alignment\n",
    "\n",
    "def reverse_complement(seq: str) -> str:                                                                                                                                                                                                                   \n",
    "    m = {\"A\": \"T\", \"T\": \"A\", \"G\": \"C\", \"C\": \"G\"}                                                                                                                                                                                                           \n",
    "    return seq.translate(seq.maketrans(m))[::-1]  # type: ignore\n",
    "\n",
    "a = \"GATTAATGCAATGTAGTGTCAATTAGATGTACATTCCTGAGGTCTTTTATCTGTTGTAGCTTTGTCTTTTTCTTTTTCTTTTCATTACATCAGGTATATTGCCCTGTAAATTGTGGTAGTGGTACCAGGAATAAAAA\"\n",
    "b = \"AAAGTTAAAAATTCCTTAATTTTTTATTCCTGGTACCACTACCACAATTTACAGGGCAATATACCTGATGTAATGAAAAGAAAAAGAAAAAGACAAAGCTACAACAGATAAAAGACCTCAGGAATGTACATCTAATTGACACTACATTGCATTAATC\"\n",
    "\n",
    "alignments = pairwise2.align.globalxx(a,b)\n",
    "print(format_alignment(*alignments[0]))\n",
    "alignments = pairwise2.align.globalxx(reverse_complement(a),b)\n",
    "print(format_alignment(*alignments[0]))\n"
   ]
  },
  {
   "cell_type": "code",
   "execution_count": 3,
   "id": "1a8ae36f-b585-42fb-8bbd-0f65842d40b9",
   "metadata": {},
   "outputs": [
    {
     "name": "stdout",
     "output_type": "stream",
     "text": [
      "GA---TTAATGCAATGTAGTGTCAA-TTAGATGTAC----ATTCCTGAGGT-CTTTT-ATCTGTTGTAGC-----TTT---GT--CTTT--T-T-CTTTTTCTTTTC-AT-TACATC-A---G-----GTATATT---GC-C----CT------G-TAAATT-G---T--GGTAG-TGGTAC--C-AG---GA-A-TA-A----A--AA--\n",
      " |   ||||   ||   | | ||   ||| || |      ||||||  ||| |     | |     || |     |||   |   |     | | |     |   |  || || ||  |   |     | | |     |  |    ||      | ||||   |   |  || |  | ||||  | |    || | || |    |  ||  \n",
      "-AAAGTTAA---AA---A-T-TC--CTTA-AT-T--TTTTATTCCT--GGTAC----CA-C-----TA-CCACAATTTACAG-GGC---AATATAC-----C---T-GATGTA-AT-GAAAAGAAAAAG-A-A--AAAG-ACAAAGCTACAACAGATAAA--AGACCTCAGG-A-AT-GTACATCTA-ATTGACACTACATTGCATTAATC\n",
      "  Score=83\n",
      "\n"
     ]
    }
   ],
   "source": []
  }
 ],
 "metadata": {
  "kernelspec": {
   "display_name": "Python 3 (ipykernel)",
   "language": "python",
   "name": "python3"
  },
  "language_info": {
   "codemirror_mode": {
    "name": "ipython",
    "version": 3
   },
   "file_extension": ".py",
   "mimetype": "text/x-python",
   "name": "python",
   "nbconvert_exporter": "python",
   "pygments_lexer": "ipython3",
   "version": "3.9.7"
  }
 },
 "nbformat": 4,
 "nbformat_minor": 5
}
