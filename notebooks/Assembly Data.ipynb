{
 "cells": [
  {
   "cell_type": "code",
   "execution_count": null,
   "id": "55f738db-54c9-4769-add5-32a26ee8e8b6",
   "metadata": {},
   "outputs": [],
   "source": [
    "def get_srr_ids(assembly_id):\n",
    "    pass"
   ]
  },
  {
   "cell_type": "code",
   "execution_count": 12,
   "id": "71e0bec1-01fe-463a-bb2b-8d21a1fa5aed",
   "metadata": {},
   "outputs": [],
   "source": [
    "import requests\n",
    "\n",
    "esearch_url = \"http://eutils.ncbi.nlm.nih.gov/entrez/eutils/esearch.fcgi\"\n",
    "\n",
    "res = requests.get(esearch_url + \"?db=sra&term=SRP012001\")\n",
    "\n"
   ]
  },
  {
   "cell_type": "code",
   "execution_count": 24,
   "id": "8651906f-0072-48f1-9e35-7a9a1983c833",
   "metadata": {},
   "outputs": [
    {
     "name": "stdout",
     "output_type": "stream",
     "text": [
      "1159405\n",
      "1159404\n",
      "1159403\n",
      "1159402\n",
      "1159401\n",
      "1159400\n",
      "1159399\n",
      "1159398\n",
      "1159397\n",
      "1159396\n",
      "1159395\n",
      "1159394\n",
      "1159393\n",
      "571219\n",
      "571218\n",
      "275291\n",
      "275290\n",
      "275275\n",
      "275274\n",
      "249526\n"
     ]
    },
    {
     "data": {
      "text/plain": [
       "'<?xml version=\"1.0\" encoding=\"UTF-8\" ?>\\n<!DOCTYPE eSearchResult PUBLIC \"-//NLM//DTD esearch 20060628//EN\" \"https://eutils.ncbi.nlm.nih.gov/eutils/dtd/20060628/esearch.dtd\">\\n<eSearchResult><Count>39</Count><RetMax>20</RetMax><RetStart>0</RetStart><IdList>\\n<Id>1159405</Id>\\n<Id>1159404</Id>\\n<Id>1159403</Id>\\n<Id>1159402</Id>\\n<Id>1159401</Id>\\n<Id>1159400</Id>\\n<Id>1159399</Id>\\n<Id>1159398</Id>\\n<Id>1159397</Id>\\n<Id>1159396</Id>\\n<Id>1159395</Id>\\n<Id>1159394</Id>\\n<Id>1159393</Id>\\n<Id>571219</Id>\\n<Id>571218</Id>\\n<Id>275291</Id>\\n<Id>275290</Id>\\n<Id>275275</Id>\\n<Id>275274</Id>\\n<Id>249526</Id>\\n</IdList><TranslationSet/><TranslationStack>   <TermSet>    <Term>SRP012001[All Fields]</Term>    <Field>All Fields</Field>    <Count>39</Count>    <Explode>N</Explode>   </TermSet>   <OP>GROUP</OP>  </TranslationStack><QueryTranslation>SRP012001[All Fields]</QueryTranslation></eSearchResult>\\n'"
      ]
     },
     "execution_count": 24,
     "metadata": {},
     "output_type": "execute_result"
    }
   ],
   "source": [
    "import xml.etree.ElementTree as ET\n",
    "\n",
    "tree = ET.fromstring(res.text)\n",
    "for child in tree:\n",
    "\n",
    "    if child.tag == \"IdList\":\n",
    "        for id in child:\n",
    "            print(id.text)\n",
    "            \n",
    "res.text"
   ]
  },
  {
   "cell_type": "code",
   "execution_count": 25,
   "id": "6702ba7a-0eb9-4b66-a68b-225e78a7bbf2",
   "metadata": {},
   "outputs": [],
   "source": [
    "res2 = requests.get(\"http://eutils.ncbi.nlm.nih.gov/entrez/eutils/efetch.fcgi?db=sra&query_key=1159405\")\n"
   ]
  },
  {
   "cell_type": "code",
   "execution_count": 27,
   "id": "bb9095d0-74c0-4051-a288-f2ee8e612526",
   "metadata": {},
   "outputs": [
    {
     "data": {
      "text/plain": [
       "'<?xml version=\"1.0\" encoding=\"UTF-8\" ?>\\n<!DOCTYPE eEfetchResult PUBLIC \"-//NLM//DTD efetch 20131226//EN\" \"https://eutils.ncbi.nlm.nih.gov/eutils/dtd/20131226/efetch.dtd\">\\n<eFetchResult>\\n\\t<ERROR>WebEnv parameter is required</ERROR>\\n</eFetchResult>\\n'"
      ]
     },
     "execution_count": 27,
     "metadata": {},
     "output_type": "execute_result"
    }
   ],
   "source": [
    "res2.text"
   ]
  }
 ],
 "metadata": {
  "kernelspec": {
   "display_name": "Python 3 (ipykernel)",
   "language": "python",
   "name": "python3"
  },
  "language_info": {
   "codemirror_mode": {
    "name": "ipython",
    "version": 3
   },
   "file_extension": ".py",
   "mimetype": "text/x-python",
   "name": "python",
   "nbconvert_exporter": "python",
   "pygments_lexer": "ipython3",
   "version": "3.9.7"
  }
 },
 "nbformat": 4,
 "nbformat_minor": 5
}
