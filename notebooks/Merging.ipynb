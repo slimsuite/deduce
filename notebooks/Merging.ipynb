{
 "cells": [
  {
   "cell_type": "code",
   "execution_count": 1,
   "id": "c55c6c06-c19a-4c6d-b52a-f14fb15445b7",
   "metadata": {},
   "outputs": [
    {
     "ename": "ModuleNotFoundError",
     "evalue": "No module named 'deduce_uces'",
     "output_type": "error",
     "traceback": [
      "\u001b[0;31m---------------------------------------------------------------------------\u001b[0m",
      "\u001b[0;31mModuleNotFoundError\u001b[0m                       Traceback (most recent call last)",
      "\u001b[0;32m/tmp/ipykernel_30742/3149064733.py\u001b[0m in \u001b[0;36m<module>\u001b[0;34m\u001b[0m\n\u001b[0;32m----> 1\u001b[0;31m \u001b[0;32mfrom\u001b[0m \u001b[0mdeduce_uces\u001b[0m\u001b[0;34m.\u001b[0m\u001b[0mstages\u001b[0m\u001b[0;34m.\u001b[0m\u001b[0mcore\u001b[0m \u001b[0;32mimport\u001b[0m \u001b[0mGenomeWithCoreKmers\u001b[0m\u001b[0;34m\u001b[0m\u001b[0;34m\u001b[0m\u001b[0m\n\u001b[0m\u001b[1;32m      2\u001b[0m \u001b[0;32mfrom\u001b[0m \u001b[0mdeduce_uces\u001b[0m\u001b[0;34m.\u001b[0m\u001b[0mGenome\u001b[0m \u001b[0;32mimport\u001b[0m \u001b[0mGenome\u001b[0m\u001b[0;34m\u001b[0m\u001b[0;34m\u001b[0m\u001b[0m\n\u001b[1;32m      3\u001b[0m \u001b[0;32mfrom\u001b[0m \u001b[0mdeduce_uces\u001b[0m\u001b[0;34m.\u001b[0m\u001b[0mrun\u001b[0m \u001b[0;32mimport\u001b[0m \u001b[0mProgramContext\u001b[0m\u001b[0;34m\u001b[0m\u001b[0;34m\u001b[0m\u001b[0m\n\u001b[1;32m      4\u001b[0m \u001b[0;32mfrom\u001b[0m \u001b[0mdeduce_uces\u001b[0m\u001b[0;34m.\u001b[0m\u001b[0mLogger\u001b[0m \u001b[0;32mimport\u001b[0m \u001b[0mNullLogger\u001b[0m\u001b[0;34m\u001b[0m\u001b[0;34m\u001b[0m\u001b[0m\n\u001b[1;32m      5\u001b[0m \u001b[0;34m\u001b[0m\u001b[0m\n",
      "\u001b[0;31mModuleNotFoundError\u001b[0m: No module named 'deduce_uces'"
     ]
    }
   ],
   "source": [
    "from deduce_uces.stages.core import GenomeWithCoreKmers\n",
    "from deduce_uces.Genome import Genome\n",
    "from deduce_uces.run import ProgramContext\n",
    "from deduce_uces.Logger import NullLogger\n",
    "\n",
    "genomes = [\n",
    "    GenomeWithCoreKmers(Genome(name=\"hg16\", source_files=[]), \"../data/bej04/50bp_nonunique/mm_hg16.bam\"),\n",
    "    GenomeWithCoreKmers(Genome(name=\"rn3\", source_files=[]), \"../data/bej04/50bp_nonunique/mm_rn3.bam\"),\n",
    "    GenomeWithCoreKmers(Genome(name=\"mm3\", source_files=[]), \"../data/bej04/50bp_nonunique/mm_mm3.bam\")\n",
    "]\n",
    "\n",
    "context = ProgramContext(threads=4, logger=NullLogger(), working_dir='../data/bej04/50bp_nonunique')"
   ]
  },
  {
   "cell_type": "code",
   "execution_count": null,
   "id": "58a18590-6706-4835-b370-1606aff35df6",
   "metadata": {},
   "outputs": [],
   "source": [
    "from itertools import product\n",
    "\n",
    "def run_hyperparameter_tests():\n",
    "    hyper_params = itertools.product()"
   ]
  },
  {
   "cell_type": "code",
   "execution_count": 2,
   "id": "47df8e41-d8d4-47c8-a4a0-30a00e9ba421",
   "metadata": {},
   "outputs": [],
   "source": [
    "from deduce_uces.cli import parse_args\n",
    "args = parse_args(['find', '--uce-min-length', '200', '--core-kmer-threshold', '100', '--core-kmer-size', '50', '--core-kmer-non-unique-buffer', '0', '--uce-min-identity', '100'])\n"
   ]
  },
  {
   "cell_type": "code",
   "execution_count": 28,
   "id": "fcb35aab-417d-4948-91f2-a8fc08ca5f61",
   "metadata": {},
   "outputs": [
    {
     "name": "stdout",
     "output_type": "stream",
     "text": [
      "[['c10643'], ['c875492'], ['c990164'], ['c1015400'], ['c1256612'], ['c678446'], ['c130354'], ['c10643'], ['c15849'], ['c83113'], ['c393417'], ['c1068506'], ['c364341'], ['c804256'], ['c1132896'], ['c920088'], ['c736509'], ['c426586'], ['c114254'], None, ['c970336'], ['c114254'], ['c893307'], ['c938885'], ['c782212'], ['c503895'], ['c998295'], ['c231601'], ['c604351'], ['c573308'], ['c390825'], ['c418082'], ['c391557'], ['c1006002'], ['c10643'], None, None, ['c723083'], ['c303244'], ['c246776'], ['c1284886'], ['c84127']]\n"
     ]
    }
   ],
   "source": [
    "import pysam\n",
    "from multiprocessing import Pool\n",
    "from functools import partial\n",
    "\n",
    "\n",
    "def read_alignments_in_contig(contig, filename):\n",
    "    f1 = pysam.AlignmentFile(filename, 'rb')\n",
    "\n",
    "    for alignment in f1.fetch(contig=contig, multiple_iterators=True):\n",
    "        return [alignment.query_name]\n",
    "\n",
    "\n",
    "def read():\n",
    "    \n",
    "    f = partial(read_alignments_in_contig, filename=\"../data/bej04/50bp_nonunique/mm_hg16.bam\")\n",
    "    with Pool(4) as p:\n",
    "        print([x for x in p.imap_unordered(f, f1.references)])\n",
    "\n",
    "read()"
   ]
  },
  {
   "cell_type": "code",
   "execution_count": 3,
   "id": "7f4135d7-d346-4c54-b193-7bbc8d396009",
   "metadata": {},
   "outputs": [
    {
     "ename": "KeyboardInterrupt",
     "evalue": "",
     "output_type": "error",
     "traceback": [
      "\u001b[0;31m---------------------------------------------------------------------------\u001b[0m",
      "\u001b[0;31mKeyboardInterrupt\u001b[0m                         Traceback (most recent call last)",
      "\u001b[0;32m/tmp/ipykernel_3257/941495130.py\u001b[0m in \u001b[0;36m<module>\u001b[0;34m\u001b[0m\n\u001b[1;32m      1\u001b[0m \u001b[0;32mfrom\u001b[0m \u001b[0mdeduce_uces\u001b[0m\u001b[0;34m.\u001b[0m\u001b[0mstages\u001b[0m\u001b[0;34m.\u001b[0m\u001b[0mcandidates\u001b[0m \u001b[0;32mimport\u001b[0m \u001b[0mget_merged_candidates_by_genome\u001b[0m\u001b[0;34m\u001b[0m\u001b[0;34m\u001b[0m\u001b[0m\n\u001b[1;32m      2\u001b[0m \u001b[0;34m\u001b[0m\u001b[0m\n\u001b[0;32m----> 3\u001b[0;31m \u001b[0mcandidates_by_genome\u001b[0m \u001b[0;34m=\u001b[0m \u001b[0mget_merged_candidates_by_genome\u001b[0m\u001b[0;34m(\u001b[0m\u001b[0mgenomes\u001b[0m\u001b[0;34m,\u001b[0m \u001b[0margs\u001b[0m\u001b[0;34m,\u001b[0m \u001b[0mcontext\u001b[0m\u001b[0;34m)\u001b[0m\u001b[0;34m\u001b[0m\u001b[0;34m\u001b[0m\u001b[0m\n\u001b[0m",
      "\u001b[0;32m~/.local/lib/python3.8/site-packages/deduce_uces/stages/candidates.py\u001b[0m in \u001b[0;36mget_merged_candidates_by_genome\u001b[0;34m(genomes, args, context)\u001b[0m\n\u001b[1;32m     73\u001b[0m \u001b[0;34m\u001b[0m\u001b[0m\n\u001b[1;32m     74\u001b[0m     \u001b[0;32mfor\u001b[0m \u001b[0mgenome\u001b[0m \u001b[0;32min\u001b[0m \u001b[0mgenomes\u001b[0m\u001b[0;34m:\u001b[0m\u001b[0;34m\u001b[0m\u001b[0;34m\u001b[0m\u001b[0m\n\u001b[0;32m---> 75\u001b[0;31m         merged_runs = [\n\u001b[0m\u001b[1;32m     76\u001b[0m             \u001b[0mx\u001b[0m\u001b[0;34m\u001b[0m\u001b[0;34m\u001b[0m\u001b[0m\n\u001b[1;32m     77\u001b[0m             for x in do_merge(\n",
      "\u001b[0;32m~/.local/lib/python3.8/site-packages/deduce_uces/stages/candidates.py\u001b[0m in \u001b[0;36m<listcomp>\u001b[0;34m(.0)\u001b[0m\n\u001b[1;32m     73\u001b[0m \u001b[0;34m\u001b[0m\u001b[0m\n\u001b[1;32m     74\u001b[0m     \u001b[0;32mfor\u001b[0m \u001b[0mgenome\u001b[0m \u001b[0;32min\u001b[0m \u001b[0mgenomes\u001b[0m\u001b[0;34m:\u001b[0m\u001b[0;34m\u001b[0m\u001b[0;34m\u001b[0m\u001b[0m\n\u001b[0;32m---> 75\u001b[0;31m         merged_runs = [\n\u001b[0m\u001b[1;32m     76\u001b[0m             \u001b[0mx\u001b[0m\u001b[0;34m\u001b[0m\u001b[0;34m\u001b[0m\u001b[0m\n\u001b[1;32m     77\u001b[0m             for x in do_merge(\n",
      "\u001b[0;32m~/.local/lib/python3.8/site-packages/deduce_uces/stages/candidates.py\u001b[0m in \u001b[0;36mdo_merge\u001b[0;34m(alignment_generator, uce_min_length, uce_max_gaps)\u001b[0m\n\u001b[1;32m    118\u001b[0m     \u001b[0mlast_n_mismatches\u001b[0m \u001b[0;34m=\u001b[0m \u001b[0;32mNone\u001b[0m\u001b[0;34m\u001b[0m\u001b[0;34m\u001b[0m\u001b[0m\n\u001b[1;32m    119\u001b[0m \u001b[0;34m\u001b[0m\u001b[0m\n\u001b[0;32m--> 120\u001b[0;31m     \u001b[0;32mfor\u001b[0m \u001b[0malignment\u001b[0m \u001b[0;32min\u001b[0m \u001b[0malignment_generator\u001b[0m\u001b[0;34m:\u001b[0m\u001b[0;34m\u001b[0m\u001b[0;34m\u001b[0m\u001b[0m\n\u001b[0m\u001b[1;32m    121\u001b[0m         \u001b[0;32mif\u001b[0m \u001b[0min_run\u001b[0m \u001b[0;32mand\u001b[0m \u001b[0malignment\u001b[0m\u001b[0;34m.\u001b[0m\u001b[0mposition\u001b[0m \u001b[0;34m==\u001b[0m \u001b[0mpos\u001b[0m\u001b[0;34m:\u001b[0m\u001b[0;34m\u001b[0m\u001b[0;34m\u001b[0m\u001b[0m\n\u001b[1;32m    122\u001b[0m             \u001b[0;31m# Multiple core kmers have been mapped to the same position\u001b[0m\u001b[0;34m\u001b[0m\u001b[0;34m\u001b[0m\u001b[0;34m\u001b[0m\u001b[0m\n",
      "\u001b[0;32m~/.local/lib/python3.8/site-packages/deduce_uces/io/sam.py\u001b[0m in \u001b[0;36mparse_sam_lazy\u001b[0;34m(sam_filename, max_mismatches)\u001b[0m\n\u001b[1;32m     42\u001b[0m     \u001b[0mf2\u001b[0m \u001b[0;34m=\u001b[0m \u001b[0mpysam\u001b[0m\u001b[0;34m.\u001b[0m\u001b[0mAlignmentFile\u001b[0m\u001b[0;34m(\u001b[0m\u001b[0msam_filename\u001b[0m\u001b[0;34m,\u001b[0m \u001b[0mfiletype\u001b[0m\u001b[0;34m)\u001b[0m\u001b[0;34m\u001b[0m\u001b[0;34m\u001b[0m\u001b[0m\n\u001b[1;32m     43\u001b[0m \u001b[0;34m\u001b[0m\u001b[0m\n\u001b[0;32m---> 44\u001b[0;31m     \u001b[0;32mfor\u001b[0m \u001b[0malignment\u001b[0m \u001b[0;32min\u001b[0m \u001b[0mf2\u001b[0m\u001b[0;34m.\u001b[0m\u001b[0mfetch\u001b[0m\u001b[0;34m(\u001b[0m\u001b[0;34m)\u001b[0m\u001b[0;34m:\u001b[0m\u001b[0;34m\u001b[0m\u001b[0;34m\u001b[0m\u001b[0m\n\u001b[0m\u001b[1;32m     45\u001b[0m         \u001b[0;32mif\u001b[0m \u001b[0malignment\u001b[0m\u001b[0;34m.\u001b[0m\u001b[0mis_unmapped\u001b[0m\u001b[0;34m:\u001b[0m\u001b[0;34m\u001b[0m\u001b[0;34m\u001b[0m\u001b[0m\n\u001b[1;32m     46\u001b[0m             \u001b[0;32mcontinue\u001b[0m\u001b[0;34m\u001b[0m\u001b[0;34m\u001b[0m\u001b[0m\n",
      "\u001b[0;31mKeyboardInterrupt\u001b[0m: "
     ]
    }
   ],
   "source": [
    "from deduce_uces.stages.candidates import get_merged_candidates_by_genome\n",
    "\n",
    "candidates_by_genome = get_merged_candidates_by_genome(genomes, args, context)"
   ]
  },
  {
   "cell_type": "code",
   "execution_count": 31,
   "id": "d2cda390-e6c0-4989-88d2-e6fc228a46eb",
   "metadata": {},
   "outputs": [],
   "source": [
    "matched_within = match_in_genomes(candidates_by_genome, context)"
   ]
  },
  {
   "cell_type": "code",
   "execution_count": 32,
   "id": "e610f8fb-57ac-443a-ad58-ec263da273f8",
   "metadata": {},
   "outputs": [
    {
     "name": "stdout",
     "output_type": "stream",
     "text": [
      "Candidates: matching UCEs across genomes...\n",
      "Candidates: identified 15 UCE candidates\n",
      "Candidates: calculating consensus sequences and filtering by homology...\n"
     ]
    },
    {
     "data": {
      "image/png": "[encoded data removed]",
      "text/plain": [
       "<Figure size 360x360 with 1 Axes>"
      ]
     },
     "metadata": {
      "needs_background": "light"
     },
     "output_type": "display_data"
    },
    {
     "data": {
      "image/png": "[encoded data removed]",
      "text/plain": [
       "<Figure size 360x360 with 1 Axes>"
      ]
     },
     "metadata": {
      "needs_background": "light"
     },
     "output_type": "display_data"
    }
   ],
   "source": [
    "matched_across = match_across_genomes(matched_within, context)\n",
    "matched_across"
   ]
  },
  {
   "cell_type": "code",
   "execution_count": 33,
   "id": "695f19a1-3126-4d71-be0b-f304cea2ac33",
   "metadata": {},
   "outputs": [
    {
     "data": {
      "text/plain": [
       "<UCEInstanceSet uces=15>"
      ]
     },
     "execution_count": 33,
     "metadata": {},
     "output_type": "execute_result"
    }
   ],
   "source": [
    "min_homology = float(args.uce_min_identity) / 100\n",
    "uces = UCEs.from_uce_instances(\n",
    "    matched_across,\n",
    "    min_genomes=core_genomes_required,\n",
    "    min_homology=min_homology,\n",
    "    reference_genome=args.reference,\n",
    ")\n",
    "uces"
   ]
  }
 ],
 "metadata": {
  "kernelspec": {
   "display_name": "Python 3 (ipykernel)",
   "language": "python",
   "name": "python3"
  },
  "language_info": {
   "codemirror_mode": {
    "name": "ipython",
    "version": 3
   },
   "file_extension": ".py",
   "mimetype": "text/x-python",
   "name": "python",
   "nbconvert_exporter": "python",
   "pygments_lexer": "ipython3",
   "version": "3.9.7"
  }
 },
 "nbformat": 4,
 "nbformat_minor": 5
}
