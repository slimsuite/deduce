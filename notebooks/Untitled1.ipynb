{
 "cells": [
  {
   "cell_type": "code",
   "execution_count": 1,
   "id": "00a04cac-0dc9-42ef-9c1b-f48f3295b11b",
   "metadata": {},
   "outputs": [],
   "source": [
    "import csv\n",
    "import os.path\n",
    "\n",
    "def genome_basename(g):\n",
    "    return os.path.basename(g[\"File\"]).split(\".\")[0].lower()\n",
    "\n",
    "\n",
    "# with open(\"/home/cadel/release-103.genomes.summarise.tdt\") as f:\n",
    "#     reader = csv.DictReader(f, delimiter=\"\\t\")\n",
    "#     genomes = [g for g in reader if genome_basename(g) in mammals]\n",
    "\n",
    "# genomes_by_length = sorted(genomes, key=lambda g: int(g[\"TotLength\"]))\n",
    "\n",
    "# # Find the n genomes with the closest sequence length\n",
    "# n = 40\n",
    "\n",
    "# min_distance = None\n",
    "# min_group = None\n",
    "\n",
    "# for i in range(len(genomes_by_length) - n):\n",
    "#     group_distance = int(genomes_by_length[i + n][\"TotLength\"]) - int(\n",
    "#         genomes_by_length[i][\"TotLength\"]\n",
    "#     )\n",
    "\n",
    "#     if min_distance is None or group_distance < min_distance:\n",
    "#         min_distance = group_distance\n",
    "#         min_group = genomes_by_length[i : i + n]\n",
    "\n",
    "# import random\n",
    "\n",
    "# random.seed(1998)\n",
    "\n",
    "# prefix = \"/srv/scratch/basenji/UCE-Mar20/data\"\n",
    "# ensembl_prefix = prefix + \"/2021-03-24.EnsGenomes\"\n",
    "# benchmarking_prefix = prefix + \"/2021-10-18.Benchmarking\"\n",
    "# steps = list(range(2, 11, 1))\n",
    "\n",
    "# shuffled_genomes = random.sample(min_group, k=len(min_group))\n",
    "\n",
    "# for step in steps:\n",
    "#     print(f\"mkdir {benchmarking_prefix}/genomes_{step}\")\n",
    "\n",
    "#     for genome in shuffled_genomes[:step]:\n",
    "#         print(\n",
    "#             f\"ln -s {ensembl_prefix}/{genome['File']} {benchmarking_prefix}/genomes_{step}/{os.path.basename(genome['File'])}\"\n",
    "#         )\n",
    "\n",
    "#     print(\"\\n\")"
   ]
  }
 ],
 "metadata": {
  "kernelspec": {
   "display_name": "Python 3 (ipykernel)",
   "language": "python",
   "name": "python3"
  },
  "language_info": {
   "codemirror_mode": {
    "name": "ipython",
    "version": 3
   },
   "file_extension": ".py",
   "mimetype": "text/x-python",
   "name": "python",
   "nbconvert_exporter": "python",
   "pygments_lexer": "ipython3",
   "version": "3.9.7"
  }
 },
 "nbformat": 4,
 "nbformat_minor": 5
}
